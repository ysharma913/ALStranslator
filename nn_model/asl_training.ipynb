{
 "cells": [
  {
   "cell_type": "code",
   "execution_count": 1,
   "metadata": {},
   "outputs": [],
   "source": [
    "import torch\n",
    "from PIL import Image\n",
    "import pandas as pd\n",
    "import numpy as np\n"
   ]
  },
  {
   "cell_type": "code",
   "execution_count": 3,
   "metadata": {},
   "outputs": [],
   "source": [
    "from importlib.resources import path\n",
    "\n",
    "from torch import FloatTensor, LongTensor\n",
    "from traitlets import Long\n",
    "\n",
    "\n",
    "class MNISTDatasetASL(torch.utils.data.Dataset):\n",
    "    def __init__(self, path):\n",
    "        self.X, self.Y = self.get_data_mapping(path)\n",
    "\n",
    "    def get_data_mapping(self, path):\n",
    "        dataset = pd.read_csv(path)\n",
    "        Y = torch.tensor(dataset['label'].values.astype(np.int8))\n",
    "        X = torch.tensor(dataset.drop('label', axis = 1).values.astype(np.int8)) \n",
    "        return (X, Y)    \n",
    "\n",
    "    def __len__(self):\n",
    "        return len(self.X)\n",
    "    \n",
    "    def __getitem__(self, idx):\n",
    "        label = self.Y[idx].type(LongTensor)\n",
    "        input = self.X[idx].reshape(1, 28, 28).type(FloatTensor)\n",
    "        return (input, label)\n"
   ]
  },
  {
   "cell_type": "code",
   "execution_count": 6,
   "metadata": {},
   "outputs": [],
   "source": [
    "train_path = \"data/sign_mnist_train.csv\"\n",
    "test_path = \"data/sign_mnist_test.csv\"\n",
    "\n",
    "trainLoader = torch.utils.data.DataLoader(MNISTDatasetASL(train_path), batch_size=32)\n",
    "testLoader = torch.utils.data.DataLoader(MNISTDatasetASL(train_path), batch_size=32)\n",
    "\n"
   ]
  },
  {
   "cell_type": "markdown",
   "metadata": {},
   "source": [
    "## Define Network Architectyre"
   ]
  },
  {
   "cell_type": "code",
   "execution_count": 45,
   "metadata": {},
   "outputs": [
    {
     "name": "stdout",
     "output_type": "stream",
     "text": [
      "HERE\n"
     ]
    }
   ],
   "source": [
    "import torch.nn as nn\n",
    "\n",
    "class ASLClassifier(nn.Module):\n",
    "    class ConvBlock(nn.Module):\n",
    "        def __init__(self, input_c, output_c, kernel_size):\n",
    "            super().__init__()\n",
    "            self.block = nn.Sequential(\n",
    "                nn.Conv2d(input_c, output_c, kernel_size),\n",
    "                nn.ReLU(),\n",
    "                nn.MaxPool2d(2,2)\n",
    "            )\n",
    "        def forward(self, x):\n",
    "            return self.block(x)\n",
    "\n",
    "        \n",
    "    def __init__(self):\n",
    "        print(\"HERE\")\n",
    "        super().__init__()\n",
    "\n",
    "        self.conv = torch.nn.Sequential(\n",
    "            self.ConvBlock(1, 6, 3),\n",
    "            self.ConvBlock(6, 16, 3)\n",
    "        )\n",
    "        self.mlp = torch.nn.Sequential(\n",
    "            nn.Linear(16 * 5 * 5, 120),\n",
    "            nn.ReLU(),\n",
    "            nn.Linear(120, 48),\n",
    "            nn.ReLU(),\n",
    "            nn.Linear(48, 25)\n",
    "        )\n",
    "\n",
    "    def forward(self, x):\n",
    "        \n",
    "        flat_out = self.conv(x).flatten(start_dim = 1)\n",
    "        return self.mlp(flat_out)\n",
    "\n",
    "    def predict(self, x):\n",
    "        return torch.argmax(self.forward(x), dim=1)\n",
    "\n",
    "net = ASLClassifier()\n"
   ]
  },
  {
   "cell_type": "code",
   "execution_count": 23,
   "metadata": {},
   "outputs": [
    {
     "data": {
      "text/plain": [
       "Reusing TensorBoard on port 6006 (pid 30463), started 0:07:11 ago. (Use '!kill 30463' to kill it.)"
      ]
     },
     "metadata": {},
     "output_type": "display_data"
    },
    {
     "data": {
      "text/html": [
       "\n",
       "      <iframe id=\"tensorboard-frame-942170a9ab4b04ca\" width=\"100%\" height=\"800\" frameborder=\"0\">\n",
       "      </iframe>\n",
       "      <script>\n",
       "        (function() {\n",
       "          const frame = document.getElementById(\"tensorboard-frame-942170a9ab4b04ca\");\n",
       "          const url = new URL(\"http://localhost\");\n",
       "          const port = 6006;\n",
       "          if (port) {\n",
       "            url.port = port;\n",
       "          }\n",
       "          frame.src = url;\n",
       "        })();\n",
       "      </script>\n",
       "    "
      ],
      "text/plain": [
       "<IPython.core.display.HTML object>"
      ]
     },
     "metadata": {},
     "output_type": "display_data"
    }
   ],
   "source": [
    "%reload_ext tensorboard\n",
    "%tensorboard --logdir docs"
   ]
  },
  {
   "cell_type": "markdown",
   "metadata": {},
   "source": [
    "## Set up a Training Loop"
   ]
  },
  {
   "cell_type": "code",
   "execution_count": 47,
   "metadata": {},
   "outputs": [
    {
     "name": "stdout",
     "output_type": "stream",
     "text": [
      "HERE\n",
      "LOSS AT EPOCH 0 : 907.0611572265625\n",
      "Valid Accuracy AT EPOCH 0 : 0.9051174521446228\n",
      "LOSS AT EPOCH 1 : 207.854248046875\n",
      "Valid Accuracy AT EPOCH 1 : 0.9628483057022095\n",
      "LOSS AT EPOCH 2 : 108.09074401855469\n",
      "Valid Accuracy AT EPOCH 2 : 0.9757421016693115\n"
     ]
    }
   ],
   "source": [
    "import torch.utils.tensorboard as tb\n",
    "from os import path\n",
    "\n",
    "def train(model, train_loader, test_loader, lr = 0.001, epochs = 2, log_dir = 'docs'):\n",
    "    \n",
    "    optimizer = torch.optim.AdamW(model.parameters())\n",
    "    loss_fn = nn.CrossEntropyLoss()\n",
    "    global_step = 0\n",
    "\n",
    "    train_logger = tb.SummaryWriter(path.join(log_dir, 'train'))\n",
    "    valid_logger = tb.SummaryWriter(path.join(log_dir, 'valid'))\n",
    "\n",
    "    for epoch in range(epochs):\n",
    "        total_loss = 0\n",
    "        for X, Y in train_loader:\n",
    "            X = X.type(torch.FloatTensor)\n",
    "            output = model(X)\n",
    "            loss = loss_fn(output, Y)\n",
    "            \n",
    "            optimizer.zero_grad()\n",
    "            loss.backward()\n",
    "            optimizer.step()\n",
    "\n",
    "            train_logger.add_scalar('loss', loss, global_step=global_step)\n",
    "\n",
    "            global_step += 1\n",
    "\n",
    "            total_loss += loss\n",
    "        \n",
    "        print(f\"LOSS AT EPOCH {epoch} : {total_loss}\")\n",
    "\n",
    "        total_correct = 0\n",
    "        count = 0\n",
    "        for X, Y in test_loader:\n",
    "            predictions = model.predict(X)\n",
    "\n",
    "            total_correct += (predictions == Y).sum()\n",
    "            count += len(Y)\n",
    "        print(f\"Valid Accuracy AT EPOCH {epoch} : {total_correct/ count}\")\n",
    "        valid_logger.add_scalar('accuracy', total_correct/count, global_step=global_step)\n",
    "\n",
    "net = ASLClassifier()\n",
    "train(net, trainLoader, testLoader, lr = 0.001, epochs=3)\n",
    "\n",
    "\n"
   ]
  },
  {
   "cell_type": "code",
   "execution_count": 48,
   "metadata": {},
   "outputs": [],
   "source": [
    "torch.save(net.state_dict(), \"checkpoint.pth\")"
   ]
  }
 ],
 "metadata": {
  "kernelspec": {
   "display_name": "Python 3.8.5 ('base')",
   "language": "python",
   "name": "python3"
  },
  "language_info": {
   "codemirror_mode": {
    "name": "ipython",
    "version": 3
   },
   "file_extension": ".py",
   "mimetype": "text/x-python",
   "name": "python",
   "nbconvert_exporter": "python",
   "pygments_lexer": "ipython3",
   "version": "3.8.5"
  },
  "orig_nbformat": 4,
  "vscode": {
   "interpreter": {
    "hash": "77216b94c1ea9a0b660bed5d746ea0c336c2581033d6cbf52f028a2927c1c1df"
   }
  }
 },
 "nbformat": 4,
 "nbformat_minor": 2
}
